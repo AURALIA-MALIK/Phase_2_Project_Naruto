{
 "cells": [
  {
   "cell_type": "markdown",
   "metadata": {
    "id": "xMxtPsqcTsSH"
   },
   "source": [
    "# Prediction Model for Computing Insurance Premiums"
   ]
  },
  {
   "cell_type": "markdown",
   "metadata": {
    "id": "kLG2VTrnTvYL"
   },
   "source": [
    "## 1. Defining the Question\n",
    "\n",
    "---\n",
    "\n",
    "\n",
    "\n",
    "> To develop a model which will predict insurance premiums that assists insurance companies manage risk and ensure financial stability.\n",
    "\n"
   ]
  },
  {
   "cell_type": "markdown",
   "metadata": {
    "id": "XecOwPNorl2W"
   },
   "source": [
    "### a) Specifying the Data Analytic Question"
   ]
  },
  {
   "cell_type": "markdown",
   "metadata": {
    "id": "9ozBnKfehSAw"
   },
   "source": [
    "> There are several challenges that insurance companies face when determining insurance premiums which can be a complex and time-consuming process. \n",
    "\n",
    "\n",
    "> **Problem Statement:** \n",
    "The goal of this project is to build a predictive model that can accurately estimate insurance premiums based on a variety of input features.   "
   ]
  },
  {
   "cell_type": "markdown",
   "metadata": {
    "id": "J4wfHZwQrs-t"
   },
   "source": [
    "### b) Defining the Metric for Success"
   ]
  },
  {
   "attachments": {},
   "cell_type": "markdown",
   "metadata": {
    "id": "izhfXNR623o4"
   },
   "source": [
 working_document
    "The project will be considered a success if the developed predictive model is able to explain 80% of the variation of the target variable and have a Mean Absolute Error (MAE) of less than 5%\n",
    "."
main
   ]
  },
  {
   "attachments": {},
   "cell_type": "markdown",
   "metadata": {
    "id": "a9BPYqunry97"
   },
   "source": [
    "### c) Understanding the context \n"
   ]
  },
  {
   "cell_type": "markdown",
   "metadata": {},
   "source": [
    "According to the International Monetary Fund (IMF) working paper titled \"Insurance Premiums: Determinants and Policy Implications,\" there are several challenges that insurance companies face when determining insurance premiums. Insurance companies must assess the risk of an insurance event occurring for each policyholder, taking into account a wide range of factors such as the policyholder's age, gender, medical history, and the type and cost of coverage. This can be a complex and time-consuming process."
   ]
  },
  {
   "cell_type": "markdown",
   "metadata": {
    "id": "7KMRBJ7zr9HD"
   },
   "source": [
    "### d) Recording the Experimental Design"
   ]
  },
  {
   "cell_type": "markdown",
   "metadata": {
    "id": "R9mfUVfi2J4m"
   },
   "source": [
    "1.Data Collection: Gather data on the variables to be included in the model. These includes variables such as age, gender, medical history, and the type and cost of coverage which are relevant to the insurance premiums.\n",
    "\n",
    "2.Clean and preprocess the data: The data will be cleaned and preprocessed to ensure that it is in a usable form. This will involve tasks such as removing missing or invalid data, scaling the variables, and encoding categorical variables.\n",
    "\n",
    "3.Split the data into training and test sets: The data will be split into a training set and a test set. The training set will be used to fit the linear regression model, while the test set will be used to evaluate the model's performance.\n",
    "\n",
    "4.Fit the linear regression model: The data will be fit to a linear regression model to the training data by estimating the values of the coefficients for each predictor variable. Various software packages to fit the model, such as R or Python's scikit-learn library can be used.\n",
    "\n",
    "5.Evaluate the model's performance: The test set will be used to evaluate the model's performance by comparing the predicted insurance premiums to the actual premiums. There are several metrics that you can use to assess the model's performance, such as mean squared error and R-squared.\n",
    "\n",
    "6.Use the model to make predictions: After fitting and evaluating the model, it will be used to make predictions about the insurance premiums for new customers, based on their values for the predictor variables.\n",
    "\n",
    "7.Conclusions and Recommendations"
   ]
  },
  {
   "cell_type": "markdown",
   "metadata": {
    "id": "zSGyg6kWsBUl"
   },
   "source": [
    "### e) Data Understanding "
   ]
  },
  {
   "cell_type": "markdown",
   "metadata": {},
   "source": [
    "The data set to be used https://www.kaggle.com/datasets/noordeen/insurance-premium-prediction comprises of 1338 rows and 7 columns. This includes 4 numerical and 3 cotegorical features which will be useful in selecting the target and predictor variables in this analysis. \n",
    "\n",
    "| Dataset Features | \n",
    "|:------|\n",
    "|i. age - This is the age of an individual in years|\n",
    "|iii. bmi - This is the body mass index of an individual |\n",
    "|iv. children - This indicates the number of dependents covered by the health insurance|\n",
    "|v. smoker - This describes whether an individual is a smoker or non-smoker (yes=smoker and no=non-smoker)|\n",
    "|vi. region - This describes the beneficiary's residential area in the USA |\n",
    "|vii. expenses - This is the individual's medical costs billed by health insurance \n",
    " \n",
    "\n"
   ]
  },
  {
   "cell_type": "markdown",
   "metadata": {
    "id": "iUNbvIvnT7ep"
   },
   "source": [
    "## 2. Reading the Data"
   ]
  },
  {
   "cell_type": "code",
   "execution_count": 1,
   "metadata": {
    "id": "xU8pzy_c-QHG"
   },
   "outputs": [],
   "source": [
    "# loading the required libraries\n",
    "\n",
    "import pandas as pd\n",
    "import numpy as np\n",
    "from matplotlib import pyplot as plt\n",
    "import seaborn as sns\n",
    "%matplotlib inline\n",
    "from scipy.stats import norm\n",
    "import statistics\n",
    "import statsmodels.api as sm\n",
    "from sklearn.linear_model import LinearRegression"
   ]
  },
  {
   "cell_type": "code",
   "execution_count": 2,
   "metadata": {
    "id": "XJn2KjW-WMlG"
   },
   "outputs": [
    {
     "data": {
      "text/html": [
       "<div>\n",
       "<style scoped>\n",
       "    .dataframe tbody tr th:only-of-type {\n",
       "        vertical-align: middle;\n",
       "    }\n",
       "\n",
       "    .dataframe tbody tr th {\n",
       "        vertical-align: top;\n",
       "    }\n",
       "\n",
       "    .dataframe thead th {\n",
       "        text-align: right;\n",
       "    }\n",
       "</style>\n",
       "<table border=\"1\" class=\"dataframe\">\n",
       "  <thead>\n",
       "    <tr style=\"text-align: right;\">\n",
       "      <th></th>\n",
       "      <th>age</th>\n",
       "      <th>sex</th>\n",
       "      <th>bmi</th>\n",
       "      <th>children</th>\n",
       "      <th>smoker</th>\n",
       "      <th>region</th>\n",
       "      <th>expenses</th>\n",
       "    </tr>\n",
       "  </thead>\n",
       "  <tbody>\n",
       "    <tr>\n",
       "      <th>0</th>\n",
       "      <td>19</td>\n",
       "      <td>female</td>\n",
       "      <td>27.9</td>\n",
       "      <td>0</td>\n",
       "      <td>yes</td>\n",
       "      <td>southwest</td>\n",
       "      <td>16884.92</td>\n",
       "    </tr>\n",
       "    <tr>\n",
       "      <th>1</th>\n",
       "      <td>18</td>\n",
       "      <td>male</td>\n",
       "      <td>33.8</td>\n",
       "      <td>1</td>\n",
       "      <td>no</td>\n",
       "      <td>southeast</td>\n",
       "      <td>1725.55</td>\n",
       "    </tr>\n",
       "    <tr>\n",
       "      <th>2</th>\n",
       "      <td>28</td>\n",
       "      <td>male</td>\n",
       "      <td>33.0</td>\n",
       "      <td>3</td>\n",
       "      <td>no</td>\n",
       "      <td>southeast</td>\n",
       "      <td>4449.46</td>\n",
       "    </tr>\n",
       "    <tr>\n",
       "      <th>3</th>\n",
       "      <td>33</td>\n",
       "      <td>male</td>\n",
       "      <td>22.7</td>\n",
       "      <td>0</td>\n",
       "      <td>no</td>\n",
       "      <td>northwest</td>\n",
       "      <td>21984.47</td>\n",
       "    </tr>\n",
       "    <tr>\n",
       "      <th>4</th>\n",
       "      <td>32</td>\n",
       "      <td>male</td>\n",
       "      <td>28.9</td>\n",
       "      <td>0</td>\n",
       "      <td>no</td>\n",
       "      <td>northwest</td>\n",
       "      <td>3866.86</td>\n",
       "    </tr>\n",
       "    <tr>\n",
       "      <th>...</th>\n",
       "      <td>...</td>\n",
       "      <td>...</td>\n",
       "      <td>...</td>\n",
       "      <td>...</td>\n",
       "      <td>...</td>\n",
       "      <td>...</td>\n",
       "      <td>...</td>\n",
       "    </tr>\n",
       "    <tr>\n",
       "      <th>1333</th>\n",
       "      <td>50</td>\n",
       "      <td>male</td>\n",
       "      <td>31.0</td>\n",
       "      <td>3</td>\n",
       "      <td>no</td>\n",
       "      <td>northwest</td>\n",
       "      <td>10600.55</td>\n",
       "    </tr>\n",
       "    <tr>\n",
       "      <th>1334</th>\n",
       "      <td>18</td>\n",
       "      <td>female</td>\n",
       "      <td>31.9</td>\n",
       "      <td>0</td>\n",
       "      <td>no</td>\n",
       "      <td>northeast</td>\n",
       "      <td>2205.98</td>\n",
       "    </tr>\n",
       "    <tr>\n",
       "      <th>1335</th>\n",
       "      <td>18</td>\n",
       "      <td>female</td>\n",
       "      <td>36.9</td>\n",
       "      <td>0</td>\n",
       "      <td>no</td>\n",
       "      <td>southeast</td>\n",
       "      <td>1629.83</td>\n",
       "    </tr>\n",
       "    <tr>\n",
       "      <th>1336</th>\n",
       "      <td>21</td>\n",
       "      <td>female</td>\n",
       "      <td>25.8</td>\n",
       "      <td>0</td>\n",
       "      <td>no</td>\n",
       "      <td>southwest</td>\n",
       "      <td>2007.95</td>\n",
       "    </tr>\n",
       "    <tr>\n",
       "      <th>1337</th>\n",
       "      <td>61</td>\n",
       "      <td>female</td>\n",
       "      <td>29.1</td>\n",
       "      <td>0</td>\n",
       "      <td>yes</td>\n",
       "      <td>northwest</td>\n",
       "      <td>29141.36</td>\n",
       "    </tr>\n",
       "  </tbody>\n",
       "</table>\n",
       "<p>1338 rows × 7 columns</p>\n",
       "</div>"
      ],
      "text/plain": [
       "      age     sex   bmi  children smoker     region  expenses\n",
       "0      19  female  27.9         0    yes  southwest  16884.92\n",
       "1      18    male  33.8         1     no  southeast   1725.55\n",
       "2      28    male  33.0         3     no  southeast   4449.46\n",
       "3      33    male  22.7         0     no  northwest  21984.47\n",
       "4      32    male  28.9         0     no  northwest   3866.86\n",
       "...   ...     ...   ...       ...    ...        ...       ...\n",
       "1333   50    male  31.0         3     no  northwest  10600.55\n",
       "1334   18  female  31.9         0     no  northeast   2205.98\n",
       "1335   18  female  36.9         0     no  southeast   1629.83\n",
       "1336   21  female  25.8         0     no  southwest   2007.95\n",
       "1337   61  female  29.1         0    yes  northwest  29141.36\n",
       "\n",
       "[1338 rows x 7 columns]"
      ]
     },
     "execution_count": 2,
     "metadata": {},
     "output_type": "execute_result"
    }
   ],
   "source": [
    "# Loading the Data from the source i.e. csv\n",
    "\n",
    "insurance_data = pd.read_csv('Insurance Premium dataset.csv')\n",
    "insurance_data"
   ]
  },
  {
   "cell_type": "markdown",
   "metadata": {
    "id": "OI3P3YnHUEBk"
   },
   "source": [
    "\n",
    "\n",
    "## 3. Checking the Data"
   ]
  },
  {
   "cell_type": "code",
   "execution_count": 3,
   "metadata": {
    "id": "YjSVNwgptHxY"
   },
   "outputs": [
    {
     "data": {
      "text/plain": [
       "(1338, 7)"
      ]
     },
     "execution_count": 3,
     "metadata": {},
     "output_type": "execute_result"
    }
   ],
   "source": [
    "# Determining the no. of records in our dataset\n",
    "\n",
    "insurance_data.shape"
   ]
  },
  {
   "cell_type": "markdown",
   "metadata": {},
   "source": [
    "The data set contains 1338 rows and 7 columns."
   ]
  },
  {
   "cell_type": "code",
   "execution_count": 4,
   "metadata": {
    "id": "xHhTw5eKWr0n"
   },
   "outputs": [
    {
     "data": {
      "text/html": [
       "<div>\n",
       "<style scoped>\n",
       "    .dataframe tbody tr th:only-of-type {\n",
       "        vertical-align: middle;\n",
       "    }\n",
       "\n",
       "    .dataframe tbody tr th {\n",
       "        vertical-align: top;\n",
       "    }\n",
       "\n",
       "    .dataframe thead th {\n",
       "        text-align: right;\n",
       "    }\n",
       "</style>\n",
       "<table border=\"1\" class=\"dataframe\">\n",
       "  <thead>\n",
       "    <tr style=\"text-align: right;\">\n",
       "      <th></th>\n",
       "      <th>age</th>\n",
       "      <th>sex</th>\n",
       "      <th>bmi</th>\n",
       "      <th>children</th>\n",
       "      <th>smoker</th>\n",
       "      <th>region</th>\n",
       "      <th>expenses</th>\n",
       "    </tr>\n",
       "  </thead>\n",
       "  <tbody>\n",
       "    <tr>\n",
       "      <th>0</th>\n",
       "      <td>19</td>\n",
       "      <td>female</td>\n",
       "      <td>27.9</td>\n",
       "      <td>0</td>\n",
       "      <td>yes</td>\n",
       "      <td>southwest</td>\n",
       "      <td>16884.92</td>\n",
       "    </tr>\n",
       "    <tr>\n",
       "      <th>1</th>\n",
       "      <td>18</td>\n",
       "      <td>male</td>\n",
       "      <td>33.8</td>\n",
       "      <td>1</td>\n",
       "      <td>no</td>\n",
       "      <td>southeast</td>\n",
       "      <td>1725.55</td>\n",
       "    </tr>\n",
       "    <tr>\n",
       "      <th>2</th>\n",
       "      <td>28</td>\n",
       "      <td>male</td>\n",
       "      <td>33.0</td>\n",
       "      <td>3</td>\n",
       "      <td>no</td>\n",
       "      <td>southeast</td>\n",
       "      <td>4449.46</td>\n",
       "    </tr>\n",
       "    <tr>\n",
       "      <th>3</th>\n",
       "      <td>33</td>\n",
       "      <td>male</td>\n",
       "      <td>22.7</td>\n",
       "      <td>0</td>\n",
       "      <td>no</td>\n",
       "      <td>northwest</td>\n",
       "      <td>21984.47</td>\n",
       "    </tr>\n",
       "    <tr>\n",
       "      <th>4</th>\n",
       "      <td>32</td>\n",
       "      <td>male</td>\n",
       "      <td>28.9</td>\n",
       "      <td>0</td>\n",
       "      <td>no</td>\n",
       "      <td>northwest</td>\n",
       "      <td>3866.86</td>\n",
       "    </tr>\n",
       "    <tr>\n",
       "      <th>5</th>\n",
       "      <td>31</td>\n",
       "      <td>female</td>\n",
       "      <td>25.7</td>\n",
       "      <td>0</td>\n",
       "      <td>no</td>\n",
       "      <td>southeast</td>\n",
       "      <td>3756.62</td>\n",
       "    </tr>\n",
       "    <tr>\n",
       "      <th>6</th>\n",
       "      <td>46</td>\n",
       "      <td>female</td>\n",
       "      <td>33.4</td>\n",
       "      <td>1</td>\n",
       "      <td>no</td>\n",
       "      <td>southeast</td>\n",
       "      <td>8240.59</td>\n",
       "    </tr>\n",
       "    <tr>\n",
       "      <th>7</th>\n",
       "      <td>37</td>\n",
       "      <td>female</td>\n",
       "      <td>27.7</td>\n",
       "      <td>3</td>\n",
       "      <td>no</td>\n",
       "      <td>northwest</td>\n",
       "      <td>7281.51</td>\n",
       "    </tr>\n",
       "    <tr>\n",
       "      <th>8</th>\n",
       "      <td>37</td>\n",
       "      <td>male</td>\n",
       "      <td>29.8</td>\n",
       "      <td>2</td>\n",
       "      <td>no</td>\n",
       "      <td>northeast</td>\n",
       "      <td>6406.41</td>\n",
       "    </tr>\n",
       "    <tr>\n",
       "      <th>9</th>\n",
       "      <td>60</td>\n",
       "      <td>female</td>\n",
       "      <td>25.8</td>\n",
       "      <td>0</td>\n",
       "      <td>no</td>\n",
       "      <td>northwest</td>\n",
       "      <td>28923.14</td>\n",
       "    </tr>\n",
       "  </tbody>\n",
       "</table>\n",
       "</div>"
      ],
      "text/plain": [
       "   age     sex   bmi  children smoker     region  expenses\n",
       "0   19  female  27.9         0    yes  southwest  16884.92\n",
       "1   18    male  33.8         1     no  southeast   1725.55\n",
       "2   28    male  33.0         3     no  southeast   4449.46\n",
       "3   33    male  22.7         0     no  northwest  21984.47\n",
       "4   32    male  28.9         0     no  northwest   3866.86\n",
       "5   31  female  25.7         0     no  southeast   3756.62\n",
       "6   46  female  33.4         1     no  southeast   8240.59\n",
       "7   37  female  27.7         3     no  northwest   7281.51\n",
       "8   37    male  29.8         2     no  northeast   6406.41\n",
       "9   60  female  25.8         0     no  northwest  28923.14"
      ]
     },
     "execution_count": 4,
     "metadata": {},
     "output_type": "execute_result"
    }
   ],
   "source": [
    "# Previewing the top of our dataset\n",
    "\n",
    "insurance_data.head(10)"
   ]
  },
  {
   "cell_type": "code",
   "execution_count": 5,
   "metadata": {
    "id": "e9AzGcZFrIIr"
   },
   "outputs": [
    {
     "data": {
      "text/html": [
       "<div>\n",
       "<style scoped>\n",
       "    .dataframe tbody tr th:only-of-type {\n",
       "        vertical-align: middle;\n",
       "    }\n",
       "\n",
       "    .dataframe tbody tr th {\n",
       "        vertical-align: top;\n",
       "    }\n",
       "\n",
       "    .dataframe thead th {\n",
       "        text-align: right;\n",
       "    }\n",
       "</style>\n",
       "<table border=\"1\" class=\"dataframe\">\n",
       "  <thead>\n",
       "    <tr style=\"text-align: right;\">\n",
       "      <th></th>\n",
       "      <th>age</th>\n",
       "      <th>sex</th>\n",
       "      <th>bmi</th>\n",
       "      <th>children</th>\n",
       "      <th>smoker</th>\n",
       "      <th>region</th>\n",
       "      <th>expenses</th>\n",
       "    </tr>\n",
       "  </thead>\n",
       "  <tbody>\n",
       "    <tr>\n",
       "      <th>1328</th>\n",
       "      <td>23</td>\n",
       "      <td>female</td>\n",
       "      <td>24.2</td>\n",
       "      <td>2</td>\n",
       "      <td>no</td>\n",
       "      <td>northeast</td>\n",
       "      <td>22395.74</td>\n",
       "    </tr>\n",
       "    <tr>\n",
       "      <th>1329</th>\n",
       "      <td>52</td>\n",
       "      <td>male</td>\n",
       "      <td>38.6</td>\n",
       "      <td>2</td>\n",
       "      <td>no</td>\n",
       "      <td>southwest</td>\n",
       "      <td>10325.21</td>\n",
       "    </tr>\n",
       "    <tr>\n",
       "      <th>1330</th>\n",
       "      <td>57</td>\n",
       "      <td>female</td>\n",
       "      <td>25.7</td>\n",
       "      <td>2</td>\n",
       "      <td>no</td>\n",
       "      <td>southeast</td>\n",
       "      <td>12629.17</td>\n",
       "    </tr>\n",
       "    <tr>\n",
       "      <th>1331</th>\n",
       "      <td>23</td>\n",
       "      <td>female</td>\n",
       "      <td>33.4</td>\n",
       "      <td>0</td>\n",
       "      <td>no</td>\n",
       "      <td>southwest</td>\n",
       "      <td>10795.94</td>\n",
       "    </tr>\n",
       "    <tr>\n",
       "      <th>1332</th>\n",
       "      <td>52</td>\n",
       "      <td>female</td>\n",
       "      <td>44.7</td>\n",
       "      <td>3</td>\n",
       "      <td>no</td>\n",
       "      <td>southwest</td>\n",
       "      <td>11411.69</td>\n",
       "    </tr>\n",
       "    <tr>\n",
       "      <th>1333</th>\n",
       "      <td>50</td>\n",
       "      <td>male</td>\n",
       "      <td>31.0</td>\n",
       "      <td>3</td>\n",
       "      <td>no</td>\n",
       "      <td>northwest</td>\n",
       "      <td>10600.55</td>\n",
       "    </tr>\n",
       "    <tr>\n",
       "      <th>1334</th>\n",
       "      <td>18</td>\n",
       "      <td>female</td>\n",
       "      <td>31.9</td>\n",
       "      <td>0</td>\n",
       "      <td>no</td>\n",
       "      <td>northeast</td>\n",
       "      <td>2205.98</td>\n",
       "    </tr>\n",
       "    <tr>\n",
       "      <th>1335</th>\n",
       "      <td>18</td>\n",
       "      <td>female</td>\n",
       "      <td>36.9</td>\n",
       "      <td>0</td>\n",
       "      <td>no</td>\n",
       "      <td>southeast</td>\n",
       "      <td>1629.83</td>\n",
       "    </tr>\n",
       "    <tr>\n",
       "      <th>1336</th>\n",
       "      <td>21</td>\n",
       "      <td>female</td>\n",
       "      <td>25.8</td>\n",
       "      <td>0</td>\n",
       "      <td>no</td>\n",
       "      <td>southwest</td>\n",
       "      <td>2007.95</td>\n",
       "    </tr>\n",
       "    <tr>\n",
       "      <th>1337</th>\n",
       "      <td>61</td>\n",
       "      <td>female</td>\n",
       "      <td>29.1</td>\n",
       "      <td>0</td>\n",
       "      <td>yes</td>\n",
       "      <td>northwest</td>\n",
       "      <td>29141.36</td>\n",
       "    </tr>\n",
       "  </tbody>\n",
       "</table>\n",
       "</div>"
      ],
      "text/plain": [
       "      age     sex   bmi  children smoker     region  expenses\n",
       "1328   23  female  24.2         2     no  northeast  22395.74\n",
       "1329   52    male  38.6         2     no  southwest  10325.21\n",
       "1330   57  female  25.7         2     no  southeast  12629.17\n",
       "1331   23  female  33.4         0     no  southwest  10795.94\n",
       "1332   52  female  44.7         3     no  southwest  11411.69\n",
       "1333   50    male  31.0         3     no  northwest  10600.55\n",
       "1334   18  female  31.9         0     no  northeast   2205.98\n",
       "1335   18  female  36.9         0     no  southeast   1629.83\n",
       "1336   21  female  25.8         0     no  southwest   2007.95\n",
       "1337   61  female  29.1         0    yes  northwest  29141.36"
      ]
     },
     "execution_count": 5,
     "metadata": {},
     "output_type": "execute_result"
    }
   ],
   "source": [
    "# Previewing the bottom of our dataset\n",
    "\n",
    "insurance_data.tail(10)"
   ]
  },
  {
   "cell_type": "code",
   "execution_count": 6,
   "metadata": {
    "id": "n8-dW4sQWzbc"
   },
   "outputs": [
    {
     "name": "stdout",
     "output_type": "stream",
     "text": [
      "<class 'pandas.core.frame.DataFrame'>\n",
      "RangeIndex: 1338 entries, 0 to 1337\n",
      "Data columns (total 7 columns):\n",
      " #   Column    Non-Null Count  Dtype  \n",
      "---  ------    --------------  -----  \n",
      " 0   age       1338 non-null   int64  \n",
      " 1   sex       1338 non-null   object \n",
      " 2   bmi       1338 non-null   float64\n",
      " 3   children  1338 non-null   int64  \n",
      " 4   smoker    1338 non-null   object \n",
      " 5   region    1338 non-null   object \n",
      " 6   expenses  1338 non-null   float64\n",
      "dtypes: float64(2), int64(2), object(3)\n",
      "memory usage: 73.3+ KB\n"
     ]
    }
   ],
   "source": [
    "# Checking whether each column has an appropriate datatype \n",
    "\n",
    "insurance_data.info()"
   ]
  },
  {
   "cell_type": "markdown",
   "metadata": {},
   "source": [
    "It can be noted that the data set does not contain any missing values. Additionally, the data type for each of the features is appropriate. "
   ]
  },
  {
   "cell_type": "code",
   "execution_count": 7,
   "metadata": {},
   "outputs": [
    {
     "data": {
      "text/plain": [
       "True"
      ]
     },
     "execution_count": 7,
     "metadata": {},
     "output_type": "execute_result"
    }
   ],
   "source": [
    "# Check for duplicated rows\n",
    "\n",
    "insurance_data.duplicated().any()"
   ]
  },
  {
   "cell_type": "markdown",
   "metadata": {},
   "source": [
    "The data contains duplicated values which will be cleaned in the next few steps. "
   ]
  },
  {
   "cell_type": "code",
   "execution_count": 8,
   "metadata": {},
   "outputs": [
    {
     "data": {
      "text/html": [
       "<div>\n",
       "<style scoped>\n",
       "    .dataframe tbody tr th:only-of-type {\n",
       "        vertical-align: middle;\n",
       "    }\n",
       "\n",
       "    .dataframe tbody tr th {\n",
       "        vertical-align: top;\n",
       "    }\n",
       "\n",
       "    .dataframe thead th {\n",
       "        text-align: right;\n",
       "    }\n",
       "</style>\n",
       "<table border=\"1\" class=\"dataframe\">\n",
       "  <thead>\n",
       "    <tr style=\"text-align: right;\">\n",
       "      <th></th>\n",
       "      <th>age</th>\n",
       "      <th>sex</th>\n",
       "      <th>bmi</th>\n",
       "      <th>children</th>\n",
       "      <th>smoker</th>\n",
       "      <th>region</th>\n",
       "      <th>expenses</th>\n",
       "    </tr>\n",
       "  </thead>\n",
       "  <tbody>\n",
       "    <tr>\n",
       "      <th>count</th>\n",
       "      <td>1338.000000</td>\n",
       "      <td>1338</td>\n",
       "      <td>1338.000000</td>\n",
       "      <td>1338.000000</td>\n",
       "      <td>1338</td>\n",
       "      <td>1338</td>\n",
       "      <td>1338.000000</td>\n",
       "    </tr>\n",
       "    <tr>\n",
       "      <th>unique</th>\n",
       "      <td>NaN</td>\n",
       "      <td>2</td>\n",
       "      <td>NaN</td>\n",
       "      <td>NaN</td>\n",
       "      <td>2</td>\n",
       "      <td>4</td>\n",
       "      <td>NaN</td>\n",
       "    </tr>\n",
       "    <tr>\n",
       "      <th>top</th>\n",
       "      <td>NaN</td>\n",
       "      <td>male</td>\n",
       "      <td>NaN</td>\n",
       "      <td>NaN</td>\n",
       "      <td>no</td>\n",
       "      <td>southeast</td>\n",
       "      <td>NaN</td>\n",
       "    </tr>\n",
       "    <tr>\n",
       "      <th>freq</th>\n",
       "      <td>NaN</td>\n",
       "      <td>676</td>\n",
       "      <td>NaN</td>\n",
       "      <td>NaN</td>\n",
       "      <td>1064</td>\n",
       "      <td>364</td>\n",
       "      <td>NaN</td>\n",
       "    </tr>\n",
       "    <tr>\n",
       "      <th>mean</th>\n",
       "      <td>39.207025</td>\n",
       "      <td>NaN</td>\n",
       "      <td>30.665471</td>\n",
       "      <td>1.094918</td>\n",
       "      <td>NaN</td>\n",
       "      <td>NaN</td>\n",
       "      <td>13270.422414</td>\n",
       "    </tr>\n",
       "    <tr>\n",
       "      <th>std</th>\n",
       "      <td>14.049960</td>\n",
       "      <td>NaN</td>\n",
       "      <td>6.098382</td>\n",
       "      <td>1.205493</td>\n",
       "      <td>NaN</td>\n",
       "      <td>NaN</td>\n",
       "      <td>12110.011240</td>\n",
       "    </tr>\n",
       "    <tr>\n",
       "      <th>min</th>\n",
       "      <td>18.000000</td>\n",
       "      <td>NaN</td>\n",
       "      <td>16.000000</td>\n",
       "      <td>0.000000</td>\n",
       "      <td>NaN</td>\n",
       "      <td>NaN</td>\n",
       "      <td>1121.870000</td>\n",
       "    </tr>\n",
       "    <tr>\n",
       "      <th>25%</th>\n",
       "      <td>27.000000</td>\n",
       "      <td>NaN</td>\n",
       "      <td>26.300000</td>\n",
       "      <td>0.000000</td>\n",
       "      <td>NaN</td>\n",
       "      <td>NaN</td>\n",
       "      <td>4740.287500</td>\n",
       "    </tr>\n",
       "    <tr>\n",
       "      <th>50%</th>\n",
       "      <td>39.000000</td>\n",
       "      <td>NaN</td>\n",
       "      <td>30.400000</td>\n",
       "      <td>1.000000</td>\n",
       "      <td>NaN</td>\n",
       "      <td>NaN</td>\n",
       "      <td>9382.030000</td>\n",
       "    </tr>\n",
       "    <tr>\n",
       "      <th>75%</th>\n",
       "      <td>51.000000</td>\n",
       "      <td>NaN</td>\n",
       "      <td>34.700000</td>\n",
       "      <td>2.000000</td>\n",
       "      <td>NaN</td>\n",
       "      <td>NaN</td>\n",
       "      <td>16639.915000</td>\n",
       "    </tr>\n",
       "    <tr>\n",
       "      <th>max</th>\n",
       "      <td>64.000000</td>\n",
       "      <td>NaN</td>\n",
       "      <td>53.100000</td>\n",
       "      <td>5.000000</td>\n",
       "      <td>NaN</td>\n",
       "      <td>NaN</td>\n",
       "      <td>63770.430000</td>\n",
       "    </tr>\n",
       "  </tbody>\n",
       "</table>\n",
       "</div>"
      ],
      "text/plain": [
       "                age   sex          bmi     children smoker     region  \\\n",
       "count   1338.000000  1338  1338.000000  1338.000000   1338       1338   \n",
       "unique          NaN     2          NaN          NaN      2          4   \n",
       "top             NaN  male          NaN          NaN     no  southeast   \n",
       "freq            NaN   676          NaN          NaN   1064        364   \n",
       "mean      39.207025   NaN    30.665471     1.094918    NaN        NaN   \n",
       "std       14.049960   NaN     6.098382     1.205493    NaN        NaN   \n",
       "min       18.000000   NaN    16.000000     0.000000    NaN        NaN   \n",
       "25%       27.000000   NaN    26.300000     0.000000    NaN        NaN   \n",
       "50%       39.000000   NaN    30.400000     1.000000    NaN        NaN   \n",
       "75%       51.000000   NaN    34.700000     2.000000    NaN        NaN   \n",
       "max       64.000000   NaN    53.100000     5.000000    NaN        NaN   \n",
       "\n",
       "            expenses  \n",
       "count    1338.000000  \n",
       "unique           NaN  \n",
       "top              NaN  \n",
       "freq             NaN  \n",
       "mean    13270.422414  \n",
       "std     12110.011240  \n",
       "min      1121.870000  \n",
       "25%      4740.287500  \n",
       "50%      9382.030000  \n",
       "75%     16639.915000  \n",
       "max     63770.430000  "
      ]
     },
     "execution_count": 8,
     "metadata": {},
     "output_type": "execute_result"
    }
   ],
   "source": [
    "# Check the summary statistics\n",
    "\n",
    "insurance_data.describe(include = \"all\")"
   ]
  },
  {
   "cell_type": "markdown",
   "metadata": {},
   "source": [
    "Based off the above, we observe the following:\n",
    ">a. The mean age in the data set is 39 while the standard deviation is 14 years.\n",
    "\n",
    ">b. The mean bmi in the data set is 30.70 while the standard deviation is 6.10.\n",
    "\n",
    ">c. The mean number of children in the data set is 2 while the standard deviation is 2 children.\n",
    "\n",
    ">d. The mean insurance expense in the data set is 13,270.42 while the standard deviation is 12,110.01.\n",
    "\n",
    "The data also includes categorical data where the majority sex is **male** with a frequency of 676. Moreover, the group contains a high number of **non-smokers** at 1064 individuals while most individuals are from the **southeast region** at 364. \n",
    "\n",
    "    "
   ]
  },
  {
   "cell_type": "markdown",
   "metadata": {
    "id": "ckfufNrcUHeH"
   },
   "source": [
    "## 4. External Data Source Validation"
   ]
  },
  {
   "cell_type": "markdown",
   "metadata": {
    "id": "6L4sl_0WXlbg"
   },
   "source": [
    "The Kaiser Family Foundation (KFF) is a nonprofit organization that focuses on domestic health concerns and the U.S.'s position in international health policy. KFF creates and manages its own journalism, communications, and policy analysis initiatives, occasionally in collaboration with large news outlets. KFF works as a neutral resource for the public, the media, the health policy community, and policymakers by providing information, analysis, and journalism.\n",
    "\n",
    "In it's report titled \"Employer Health Benefits Survey\" KFF established annual premiums for employer-sponsored family health coverage reaching USD 21,342. For single coverage, the typical deductible for covered employees in a plan with a general annual deductible is USD 1,644.\n",
    "\n",
    "To verify the above, this is confirmed by plotting a histogram below."
   ]
  },
  {
   "cell_type": "code",
   "execution_count": 22,
   "metadata": {},
   "outputs": [
    {
     "data": {
      "text/plain": [
       "<AxesSubplot:ylabel='Frequency'>"
      ]
     },
     "execution_count": 22,
     "metadata": {},
     "output_type": "execute_result"
    },
    {
     "data": {
      "image/png": "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\n",
      "text/plain": [
       "<Figure size 432x288 with 1 Axes>"
      ]
     },
     "metadata": {
      "needs_background": "light"
     },
     "output_type": "display_data"
    }
   ],
   "source": [
    "insurance_data['expenses'].plot(kind = \"hist\")\n"
   ]
  },
  {
   "cell_type": "markdown",
   "metadata": {},
   "source": [
    "From the graph, the minimum contribution is USD 1,121 which is not far off from USD 1,644 as per teh finding in the report. Aditionally, it can be noted that most insurance premium cost between USD 5000 TO 25,000. \n",
    "\n",
    "This data set is fit for use in the development of the prediction model. "
   ]
  },
  {
   "cell_type": "markdown",
   "metadata": {
    "id": "FlBMxEDBUc9B"
   },
   "source": [
    "## 5. Tidying the Dataset"
   ]
  },
  {
   "cell_type": "code",
   "execution_count": 11,
   "metadata": {
    "id": "5o_bQcT5W3Wz"
   },
   "outputs": [
    {
     "data": {
      "image/png": "iVBORw0KGgoAAAANSUhEUgAAAWAAAAEGCAYAAABbzE8LAAAAOXRFWHRTb2Z0d2FyZQBNYXRwbG90bGliIHZlcnNpb24zLjMuMSwgaHR0cHM6Ly9tYXRwbG90bGliLm9yZy/d3fzzAAAACXBIWXMAAAsTAAALEwEAmpwYAAAJx0lEQVR4nO3dbYild3nH8d+VnRY3aqrppiGs2iWMbSqliWHRSMTaNG3TIgWRgi9apBREqOMKFVFf+YC+FMOUCvGhCK0Uq40tIqlPTVHBh902ajTRHmxsHRuzuq2J7lYx+fvi3GuWNGUzy865ztnz+cAyM/ec3XNxMfPde+7duafGGAFg8S7qHgBgXQkwQBMBBmgiwABNBBigycZuHnzgwIFx6NChPRoF4MJ07Nix74wxLnvk8V0F+NChQzl69Oj5mwpgDVTVNx7tuEsQAE0EGKCJAAM0EWCAJgIM0ESAAZoIMEATAQZoIsAATQQYoIkAAzQRYIAmAgzQRIABmggwQBMBBmgiwABNBBigiQADNNnVz4Tj7La3tzObzbrHWFk7OztJkoMHDzZPspo2NzeztbXVPQaPkQCfZ7PZLHfceVcevPjS7lFW0r6T30uS3PtDH5q7te/kie4R2CUf5XvgwYsvzamrfq97jJW0/+4PJ4n9nYPTu2N1uAYM0ESAAZoIMEATAQZoIsAATQQYoIkAAzQRYIAmAgzQRIABmggwQBMBBmgiwABNBBigiQADNBFggCYCDNBEgAGaCDBAEwEGaCLAAE0EGKCJAAM0EWCAJgIM0ESAAZoIMEATAQZoIsAATQQYoIkAAzQRYIAmAgzQRIABmggwQBMBBmgiwABNBBigiQADNBFggCYCDNBkIQHe3t7O9vb2Ip4K4Lzay35t7Mmf+giz2WwRTwNw3u1lv1yCAGgiwABNBBigiQADNBFggCYCDNBEgAGaCDBAEwEGaCLAAE0EGKCJAAM0EWCAJgIM0ESAAZoIMEATAQZoIsAATQQYoIkAAzQRYIAmAgzQRIABmggwQBMBBmgiwABNBBigiQADNBFggCYCDNBEgAGaCDBAEwEGaCLAAE0EGKCJAAM0EWCAJgIM0ESAAZoIMEATAQZosrGIJ9nZ2cmpU6dy5MiRRTxdq9lslot+NLrHYA1d9L/3ZzZ7YC0+zxZpNptl//79e/Jnn/UMuKpeWlVHq+ro8ePH92QIgHV01jPgMcYtSW5JksOHD5/Tqd3BgweTJDfffPO5/PaVcuTIkRz7+re7x2ANPfS4S7J55eVr8Xm2SHv5FYVrwABNBBigiQADNBFggCYCDNBEgAGaCDBAEwEGaCLAAE0EGKCJAAM0EWCAJgIM0ESAAZoIMEATAQZoIsAATQQYoIkAAzQRYIAmAgzQRIABmggwQBMBBmgiwABNBBigiQADNBFggCYCDNBEgAGaCDBAEwEGaCLAAE0EGKCJAAM0EWCAJgIM0ESAAZoIMEATAQZoIsAATQQYoMnGIp5kc3NzEU8DcN7tZb8WEuCtra1FPA3AebeX/XIJAqCJAAM0EWCAJgIM0ESAAZoIMEATAQZoIsAATQQYoIkAAzQRYIAmAgzQRIABmggwQBMBBmgiwABNBBigiQADNBFggCYCDNBEgAGaCDBAEwEGaCLAAE0EGKCJAAM0EWCAJgIM0ESAAZoIMEATAQZoIsAATQQYoIkAAzQRYIAmAgzQRIABmggwQBMBBmgiwABNNroHuBDtO3ki++/+cPcYK2nfye8mif2dg30nTyS5vHsMdkGAz7PNzc3uEVbazs6PkyQHDwrJ7l3u42/FCPB5trW11T0CsCJcAwZoIsAATQQYoIkAAzQRYIAmAgzQRIABmggwQBMBBmgiwABNBBigiQADNBFggCYCDNBEgAGaCDBAEwEGaCLAAE0EGKCJAAM0qTHGY39w1fEk39i7cf6PA0m+s8DnW1b2MGcPD7OLuVXZwy+OMS575MFdBXjRquroGONw9xzd7GHOHh5mF3OrvgeXIACaCDBAk2UP8C3dAywJe5izh4fZxdxK72GprwEDXMiW/QwY4IIlwABNlibAVfXUqvqnqrqrqr5cVUem45dW1Uer6t+ml0/unnUvVdXjqupzVfWFaQ9vmI6v1R5Oq6p9VfWvVfWh6e2120NV3VNVX6qqO6rq6HRsHffwpKp6f1XdPXXiOau+h6UJcJIfJ/mzMcavJLkuyZ9W1TOSvCbJx8cYT0/y8entC9kPk9wwxrg6yTVJbqqq67J+ezjtSJK7znh7XffwG2OMa874P6/ruIebk9w2xrgqydWZf1ys9h7GGEv5K8nfJ/mtJF9NcsV07IokX+2ebYE7uDjJvyR59jruIclTMv+kuiHJh6Zj67iHe5IceMSxtdpDkkuS/Hum/zhwoexhmc6Af6qqDiV5ZpLPJrl8jPFfSTK9/IXG0RZi+rL7jiT3JfnoGGMt95DkbUleneShM46t4x5Gko9U1bGqeul0bN32cGWS40n+crok9c6qenxWfA9LF+CqekKSDyR55Rjj/u55OowxHhxjXJP5GeCzqupXm0dauKp6QZL7xhjHumdZAtePMa5N8ruZX5p7XvdADTaSXJvk7WOMZyb5QVbtcsOjWKoAV9XPZB7fvx5j/N10+NtVdcX0/isyPytcC2OM/0lye5Kbsn57uD7J71fVPUn+JskNVfVXWb89ZIzxrenlfUluTfKsrN8evpnkm9NXg0ny/syDvNJ7WJoAV1UleVeSu8YYbz3jXf+Q5CXT6y/J/NrwBauqLquqJ02v709yY5K7s2Z7GGO8dozxlDHGoSQvTvKJMcYfZs32UFWPr6onnn49yW8nuTNrtocxxr1J/rOqfnk69JtJvpIV38PSfCdcVT03ySeTfCkPX/N7XebXgd+X5GlJ/iPJH4wxTrQMuQBV9WtJ3pNkX+Z/Qb5vjPHGqvr5rNEezlRVz0/yqjHGC9ZtD1V1ZeZnvcn8y/D3jjHevG57SJKquibJO5P8bJKvJ/njTJ8jWdE9LE2AAdbN0lyCAFg3AgzQRIABmggwQBMBBmgiwABNBBigiQCzEqrqg9PNaL58+oY0VfUnVfW1qrq9qt5RVX8+Hb+sqj5QVZ+ffl3fOz08Ot+IwUqoqkvHGCemb8/+fJLfSfLpzO8H8ECSTyT5whjj5VX13iR/Mcb4VFU9Lck/jvl9pmGpbHQPAI/RK6rqhdPrT03yR0n++fS3nVbV3yb5pen9NyZ5xvz2IkmSS6rqiWOMBxY5MJyNALP0pntB3JjkOWOMk1V1e+Y34v7/zmovmh57aiEDwjlyDZhV8HNJ/nuK71WZ/8iqi5P8elU9uao2krzojMd/JMnLT78x3cQFlo4AswpuS7JRVV9M8qYkn0myk+Qtmd8t72OZ35rwe9PjX5HkcFV9saq+kuRlix8Zzs4/wrGyquoJY4zvT2fAtyZ59xjj1rP9PlgWzoBZZa+ffnbenZn/wMYPtk4Du+QMGKCJM2CAJgIM0ESAAZoIMEATAQZo8hMpRONAlWmmlQAAAABJRU5ErkJggg==\n",
      "text/plain": [
       "<Figure size 432x288 with 1 Axes>"
      ]
     },
     "metadata": {
      "needs_background": "light"
     },
     "output_type": "display_data"
    },
    {
     "data": {
      "image/png": "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\n",
      "text/plain": [
       "<Figure size 432x288 with 1 Axes>"
      ]
     },
     "metadata": {
      "needs_background": "light"
     },
     "output_type": "display_data"
    },
    {
     "data": {
      "image/png": "iVBORw0KGgoAAAANSUhEUgAAAWAAAAEGCAYAAABbzE8LAAAAOXRFWHRTb2Z0d2FyZQBNYXRwbG90bGliIHZlcnNpb24zLjMuMSwgaHR0cHM6Ly9tYXRwbG90bGliLm9yZy/d3fzzAAAACXBIWXMAAAsTAAALEwEAmpwYAAAQ50lEQVR4nO3df2xdZ33H8ffXv5I2ob+S0nZOqBvM6Cq6AY0KiI11oe1ChPZHhQRIUTNtI9IGWchGJ9pmSVOVQrcCY5lUanWbUpUyVNYOBCFQ6CYYKxQHCi0hHaZJSQKhIdUIaZPGjp/9cY+N7V47sXvtry95vyTLx895znO+z9X1x8fP9T2OUgqSpJnXkl2AJJ2qDGBJSmIAS1ISA1iSkhjAkpSkbTKdFy5cWLq6uqapFEn69bR9+/afl1LOHds+qQDu6uqit7e3cVVJ0ikgIp6q1+4ShCQlMYAlKYkBLElJDGBJSmIAS1ISA1iSkhjAkpTEAJakJAawJCUxgCUpiQEsSUkMYElKYgBLUhIDWJKSGMCSlMQAlqQkBrAkJTGAJSmJASxJSSb1P+Eybd68mb6+vmkZe9++fQB0dnZOy/iT1d3dzZo1a7LLkDTNmiaA+/r6ePTxH3D89HMaPnbrc78AYP/z+Q9H63PPZJcgaYbkJ84kHD/9HI5cvKLh4562cyvAtIw9WUO1SPr15xqwJCUxgCUpiQEsSUkMYElKYgBLUhIDWJKSGMCSlMQAlqQkBrAkJTGAJSmJASxJSQxgSUpiAEtSEgNYkpIYwJKUxACWpCQGsCQlMYAlKYkBLElJDGBJSmIAS1ISA1iSkhjAkpTEAJakJAawJCUxgCUpiQEsSUkMYElKYgBLUhIDWJKSGMCSlMQAlqQkBrAkJTGAJSmJASxJSQxgSUpiAEtSEgNYkpIYwJKUxACWpCQGsCQlmZEA3rx5M5s3b56JU0nj8nmo2aZtJk7S19c3E6eRJuTzULONSxCSlMQAlqQkBrAkJTGAJSmJASxJSQxgSUpiAEtSEgNYkpIYwJKUxACWpCQGsCQlMYAlKYkBLElJDGBJSmIAS1ISA1iSkhjAkpTEAJakJAawJCUxgCUpiQEsSUkMYElKYgBLUhIDWJKSGMCSlMQAlqQkBrAkJTGAJSmJASxJSQxgSUpiAEtSEgNYkpIYwJKUxACWpCQGsCQlMYAlKYkBLElJDGBJStKWXYA0kw4dOsQVV1xBRFBKYfXq1dx1112sX7+enp4e9u/fT3t7O4sXL6a/v5+9e/dSSqGjowOA/v5+3vWud9HT08OcOXM4++yzh49pbW1lxYoV3H///cPnmzNnDp2dnaPG+vCHP8yZZ57Je97zHo4fP05/fz8dHR0sWrRouN+GDRu47777OHLkCPv27aO/v5+2ttq368DAABs2bOCBBx5g48aNLFiwgN7eXq677joWLlzIgQMHWLlyJffeey+LFi2ilMKePXuICNatW8edd97JzTffzB133MHevXsZHBykv7+f22+/na6uLjZt2jQ87lgHDx4cd/9E++qZbP/JjjGV8esd04g6x+MVsE4pTz31FAClFAB6enoYHBzk1ltvZf/+/UAtZJ988kn27Nkz3O/YsWMcO3aMUgo9PT0APP/886OOOXr06KjwHeozdqyNGzdyyy23cPToUfr7+4fHH9nvAx/4ADt27GDXrl3D5+3v76e/v394/2OPPcbdd98NwE033UQphQMHDgBwzz33MDg4yI9//GP27NkzPOePfvSjPPvss2zcuJG+vj6OHj06PP7GjRvZsmXLqHHHmmj/iY59sf2nu57xjmlEneMxgHXKOHToEIODg3X3DQwMzFgdhw8fZvfu3RP2OVE9AwMDlFLYtm0bDz30EIcPHz6pcw/9EKjX//Dhw2zdunV43IMHD47af/DgQbZt21Z3/0T76pls/8mOMZXx6x3TiDonMiNLEPv27ePIkSOsXbt2ymP09fXRcqw0sKrZqeXoIfr6fvmiHivVt2vXruwSGu748ePceuutDRtvKPiPHz/O3Xffzbp164b3bdmyZfgH2Nj9E+2rZ7L9JzvGVMavd0wp5UXXOZETXgFHxOqI6I2I3qFfbyTNDgMDA9Ny9T4wMMCDDz44qu3LX/7y8LnG7p9oXz2T7T/ZMaYyfr1jGlHnRE54BVxK6QF6AJYuXTqlS9DOzk4APvaxj03lcADWrl3L9id/NuXjm8Xg3DPoXnLei3qsVN+yZcvGXYJoViNfmGv0uFddddWotiuvvJKtW7cyMDDwgv0T7atnsv0nO8ZUxq93TCnlRdc5EdeAdcq48MILs0touNbWVm644YaGjTcU6K2trVx77bWj9q1atYqWlpa6+yfaV89k+092jKmMX++YRtQ5EQNYp4wzzjhj+JtprKHgmQnz58+nq6trwj4nqqetrY2IYPny5Sxbtoz58+ef1LkjYriGenWtWLFieNyxf3K1YMECli9fXnf/RPvqmWz/yY4xlfHrHdOIOidiAOuUMnQVPBREq1evpqWlhRtuuIHzzz8fgPb2dpYsWcLixYuH+3V0dNDR0UFEsHr1aqD2N74jj5k7dy7XXHPNqPPNmTPnBWNt2rSJ9evXM3fuXNrb24fHH9nvxhtv5JJLLuGiiy4aPm97ezvt7e3D+y+99NLhK7KbbrqJiODcc88FYOXKlbS0tPCyl72MxYsXD8953bp1zJs3j02bNtHd3c3cuXOHx9+0aROrVq0aNe5YE+0/0bEvtv901zPeMY2oczwx9GcpJ2Pp0qWlt7d30icZekW/EWvARy5eMeUxxnPazq0A0zL2ZJ22cyuXuQY8LRrxPJSmIiK2l1KWjm33CliSkhjAkpTEAJakJAawJCUxgCUpiQEsSUkMYElKYgBLUhIDWJKSGMCSlMQAlqQkBrAkJTGAJSmJASxJSQxgSUpiAEtSEgNYkpIYwJKUxACWpCQGsCQlMYAlKYkBLElJDGBJSmIAS1ISA1iSkhjAkpTEAJakJAawJCUxgCUpiQEsSUkMYElKYgBLUhIDWJKSGMCSlMQAlqQkBrAkJTGAJSmJASxJSdpm4iTd3d0zcRppQj4PNdvMSACvWbNmJk4jTcjnoWYblyAkKYkBLElJDGBJSmIAS1ISA1iSkhjAkpTEAJakJAawJCUxgCUpiQEsSUkMYElKYgBLUhIDWJKSGMCSlMQAlqQkBrAkJTGAJSmJASxJSQxgSUpiAEtSEgNYkpIYwJKUxACWpCQGsCQlMYAlKYkBLElJDGBJSmIAS1ISA1iSkhjAkpTEAJakJAawJCUxgCUpiQEsSUkMYElKYgBLUhIDWJKSGMCSlMQAlqQkBrAkJWnLLmAyWp97htN2bp2GcQ8CTMvYk9X63DPAedllSJoBTRPA3d3d0zb2vn0DAHR2zobgO29a5ypp9miaAF6zZk12CZLUUK4BS1ISA1iSkhjAkpTEAJakJAawJCUxgCUpiQEsSUkMYElKYgBLUhIDWJKSGMCSlMQAlqQkBrAkJTGAJSmJASxJSQxgSUpiAEtSEgNYkpIYwJKUxACWpCRRSjn5zhEHgKdO0G0h8PMXU9Qs4BzyNXv90PxzaPb6YfbM4cJSyrljGycVwCcjInpLKUsbOugMcw75mr1+aP45NHv9MPvn4BKEJCUxgCUpyXQEcM80jDnTnEO+Zq8fmn8OzV4/zPI5NHwNWJJ0clyCkKQkBrAkJWloAEfE8oh4IiL6IuL9jRx7CrX8S0Q8HRGPj2g7JyIejIgfVp/PHrHv+qruJyLiD0e0XxYRj1X7/jEiomqfExGfqtq/GRFdDa5/cUT8Z0T8ICK+HxFrm3AOcyPikYj4bjWHTc02h+ocrRHxnYj4XJPWv7s696MR0dukczgrIj4dETur74k3NNsc6iqlNOQDaAV+BCwBOoDvApc0avwp1PMm4LXA4yPa/g54f7X9fuC2avuSqt45wEXVPFqrfY8AbwAC+ALwlqr9L4CPV9vvAD7V4PovAF5bbb8E+N+qzmaaQwDzq+124JvA65tpDtW4fwXcC3yu2Z5H1bi7gYVj2pptDluAP6u2O4Czmm0OdefVwAfoDcAXR3x9PXD9TExigpq6GB3ATwAXVNsXAE/UqxX4YjWfC4CdI9rfCdw5sk+13Ubt3TYxjXP5DHBVs84BOB34NvC6ZpoDsAj4CrCMXwVw09RfjbubFwZw08wBOAPYNXbMZprDeB+NXILoBPaM+Hpv1TabnFdK+SlA9fmlVft4tXdW22PbRx1TShkAfgEsmI6iq1+HXkPtCrKp5lD9+v4o8DTwYCml2ebwD8DfAIMj2pqpfoACfCkitkfE6iacwxLgAPCv1VLQXRExr8nmUFcjAzjqtDXL37iNV/tEc5qR+UbEfODfgfeWUg5N1HWcelLnUEo5Xkp5NbUrycsj4lUTdJ9Vc4iItwJPl1K2n+wh49SS/Tx6YynltcBbgHdHxJsm6Dsb59BGbTnxjlLKa4BnqS05jGc2zqGuRgbwXmDxiK8XAT9p4PiN8LOIuACg+vx01T5e7Xur7bHto46JiDbgTOCZRhYbEe3UwvcTpZT7m3EOQ0op/wf8F7C8iebwRuCPImI38G/Asoi4p4nqB6CU8pPq89PAA8DlTTaHvcDe6rcngE9TC+RmmkNdjQzgbwGviIiLIqKD2kL2Zxs4fiN8FlhVba+itq461P6O6pXQi4BXAI9Uv9b8MiJeX71aeu2YY4bGehvwUKkWkBqhOt8/Az8opXykSedwbkScVW2fBlwJ7GyWOZRSri+lLCqldFF7Pj9USlnZLPUDRMS8iHjJ0DZwNfB4M82hlLIf2BMRr6ya3gzsaKY5jKuRC8rACmqv1v8IuHG6F7BPUMsngZ8C/dR+uv0ptTWdrwA/rD6fM6L/jVXdT1C9Mlq1L6X2hP0R8E/86t2Dc4H7gD5qr6wuaXD9v0vtV6DvAY9WHyuabA6/DXynmsPjwIaqvWnmMOL8V/CrF+Gapn5q66ffrT6+P/R92UxzqM7xaqC3ei79B3B2s82h3odvRZakJL4TTpKSGMCSlMQAlqQkBrAkJTGAJSmJASxJSQxgSUpiAGtGRcTKqN0j+NGIuDMiXhcR34vavYPnRe2+wa+KiCsi4qsR8UBE7IiIj0dESzXG1RHxcER8OyLuq+6XMXTf201V+2MRcXHV/vvV+R6tbuYy9M6w6yLiW9X5h+5VPC8iPh+1exg/HhFvz3qs9OvPANaMiYjfAt5O7eYwrwaOA6+k9jbQW6jd3/WeUsrQTfQvB/4auBR4OXBNRCwE1gNXltoNZnqp3a93yM+r9juA91Vt7wPeXZ3z94AjEXE1tbeoXk7tXVaXVTepWQ78pJTyO6WUVwHbGv04SEPasgvQKeXNwGXAt6p/RHAatRuo3EztXiJHgb8c0f+RUsqTABHxSWpvzz5K7YbbX6/G6AAeHnHM0E2LtgPXVNtfBz4SEZ8A7i+l7K0C+Gpqb5UGmE8tkL8G3B4Rt1F76/HXGjN16YUMYM2kALaUUq4f1RhxPrUAbKf2nvxnq11j3yc/dEvBB0sp7xznHM9Xn49TPb9LKR+KiM9Tu5fGNyLiymqcD5ZS7nxBkRGXVX0/GBFfKqXcPLlpSifHJQjNpK8Ab4uIl8Lw/yW7EOgB/hb4BHDbiP6XV3fXa6G2dPHfwDeAN0ZEdzXG6RHxmxOdNCJeXkp5rJRyG7Uli4up/QeEPxmxftwZES+NiN8Aniul3APcTu22h9K08ApYM6aUsiMi1lP77wwt1O5U9xlgoJRyb0S0Av8TEcuo/QeKh4EPUVsD/irwQCllMCL+GPhkRMyphl5P7S5843lvRPwBtaviHcAXSinPV2vSD1dLGYeBlUA38PcRMVjV9+cNfAikUbwbmmaliLgCeF8p5a3JpUjTxiUISUriFbAkJfEKWJKSGMCSlMQAlqQkBrAkJTGAJSnJ/wO1CsHmnfK5sgAAAABJRU5ErkJggg==\n",
      "text/plain": [
       "<Figure size 432x288 with 1 Axes>"
      ]
     },
     "metadata": {
      "needs_background": "light"
     },
     "output_type": "display_data"
    },
    {
     "data": {
      "image/png": "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\n",
      "text/plain": [
       "<Figure size 432x288 with 1 Axes>"
      ]
     },
     "metadata": {
      "needs_background": "light"
     },
     "output_type": "display_data"
    }
   ],
   "source": [
    "# Checking for Outliers\n",
    "\n",
    "numeric_data = ['age','bmi','expenses','children']\n",
    "\n",
    "for col in numeric_data:\n",
    "    sns.boxplot(x = insurance_data[col])\n",
    "    plt.show()"
   ]
  },
  {
   "cell_type": "markdown",
   "metadata": {},
   "source": [
    "From the box plots above, we note that there are no outliers in the age and children predictor variables. However, bmi and expenses contain several outliers which will be investigated and sorted accordingly.   "
   ]
  },
  {
   "cell_type": "code",
   "execution_count": 12,
   "metadata": {
    "id": "PvCYb6dgW4yh"
   },
   "outputs": [
    {
     "data": {
      "text/html": [
       "<div>\n",
       "<style scoped>\n",
       "    .dataframe tbody tr th:only-of-type {\n",
       "        vertical-align: middle;\n",
       "    }\n",
       "\n",
       "    .dataframe tbody tr th {\n",
       "        vertical-align: top;\n",
       "    }\n",
       "\n",
       "    .dataframe thead th {\n",
       "        text-align: right;\n",
       "    }\n",
       "</style>\n",
       "<table border=\"1\" class=\"dataframe\">\n",
       "  <thead>\n",
       "    <tr style=\"text-align: right;\">\n",
       "      <th></th>\n",
       "      <th>age</th>\n",
       "      <th>sex</th>\n",
       "      <th>bmi</th>\n",
       "      <th>children</th>\n",
       "      <th>smoker</th>\n",
       "      <th>region</th>\n",
       "      <th>expenses</th>\n",
       "    </tr>\n",
       "  </thead>\n",
       "  <tbody>\n",
       "    <tr>\n",
       "      <th>195</th>\n",
       "      <td>19</td>\n",
       "      <td>male</td>\n",
       "      <td>30.6</td>\n",
       "      <td>0</td>\n",
       "      <td>no</td>\n",
       "      <td>northwest</td>\n",
       "      <td>1639.56</td>\n",
       "    </tr>\n",
       "    <tr>\n",
       "      <th>581</th>\n",
       "      <td>19</td>\n",
       "      <td>male</td>\n",
       "      <td>30.6</td>\n",
       "      <td>0</td>\n",
       "      <td>no</td>\n",
       "      <td>northwest</td>\n",
       "      <td>1639.56</td>\n",
       "    </tr>\n",
       "  </tbody>\n",
       "</table>\n",
       "</div>"
      ],
      "text/plain": [
       "     age   sex   bmi  children smoker     region  expenses\n",
       "195   19  male  30.6         0     no  northwest   1639.56\n",
       "581   19  male  30.6         0     no  northwest   1639.56"
      ]
     },
     "execution_count": 12,
     "metadata": {},
     "output_type": "execute_result"
    }
   ],
   "source": [
    "# Identifying the Duplicates\n",
    "\n",
    "duplicated_value = insurance_data[insurance_data.duplicated(keep = False)]\n",
    "duplicated_value"
   ]
  },
  {
   "cell_type": "code",
   "execution_count": 13,
   "metadata": {},
   "outputs": [],
   "source": [
    "# Drop duplicated row\n",
    "insurance_data.drop_duplicates(inplace = True)"
   ]
  },
  {
   "cell_type": "code",
   "execution_count": 21,
   "metadata": {},
   "outputs": [
    {
     "data": {
      "text/plain": [
       "(1337, 7)"
      ]
     },
     "execution_count": 21,
     "metadata": {},
     "output_type": "execute_result"
    }
   ],
   "source": [
    "# Confirm that duplicated row has been deleted\n",
    "insurance_data.shape"
   ]
  },
  {
   "cell_type": "markdown",
   "metadata": {
    "id": "rF2ABPsHUtbZ"
   },
   "source": [
    "## 6. Exploratory Data Analysis"
   ]
  },
  {
   "cell_type": "code",
   "execution_count": 16,
   "metadata": {
    "id": "5nnRToniXGDK"
   },
   "outputs": [],
   "source": [
    "# Ploting the bivariate summaries and recording our observations\n",
    "#"
   ]
  },
  {
   "cell_type": "code",
   "execution_count": 17,
   "metadata": {
    "id": "6UzyQC6kmdBi"
   },
   "outputs": [],
   "source": [
    "# Data Reduction\n",
    "#"
   ]
  },
  {
   "cell_type": "markdown",
   "metadata": {
    "id": "vTbdjSrhVIiT"
   },
   "source": [
    "## 7. Implementing the Solution"
   ]
  },
  {
   "cell_type": "code",
   "execution_count": 18,
   "metadata": {
    "id": "PJLZaRzJXJ3w"
   },
   "outputs": [],
   "source": [
    "# Implementing the Solution\n",
    "# "
   ]
  },
  {
   "cell_type": "markdown",
   "metadata": {
    "id": "lQ2G4ZPDVOXE"
   },
   "source": [
    "## 8. Challenging the solution"
   ]
  },
  {
   "cell_type": "markdown",
   "metadata": {
    "id": "jWVGKGuiYMWg"
   },
   "source": [
    "> The easy solution is nice because it is, well, easy, but you should never allow those results to hold the day. You should always be thinking of ways to challenge the results, especially if those results comport with your prior expectation.\n",
    "\n",
    "\n",
    "\n",
    "\n"
   ]
  },
  {
   "cell_type": "code",
   "execution_count": 19,
   "metadata": {
    "id": "j3x3SXZ4XT_L"
   },
   "outputs": [],
   "source": [
    "# Reviewing the Solution \n",
    "#"
   ]
  },
  {
   "cell_type": "markdown",
   "metadata": {
    "id": "xrmHVMVsVS--"
   },
   "source": [
    "## 9. Follow up questions"
   ]
  },
  {
   "cell_type": "markdown",
   "metadata": {
    "id": "pth2qSWhuBIy"
   },
   "source": [
    "> At this point, we can refine our question or collect new data, all in an iterative process to get at the truth.\n",
    "\n"
   ]
  },
  {
   "cell_type": "markdown",
   "metadata": {
    "id": "HPQviDmNtta8"
   },
   "source": [
    "### a). Did we have the right data?"
   ]
  },
  {
   "cell_type": "markdown",
   "metadata": {
    "id": "qjFHK1CKty7o"
   },
   "source": [
    "### b). Do we need other data to answer our question?"
   ]
  },
  {
   "cell_type": "markdown",
   "metadata": {
    "id": "HSsicSdvt4Zs"
   },
   "source": [
    "### c). Did we have the right question?"
   ]
  }
 ],
 "metadata": {
  "colab": {
   "collapsed_sections": [
    "a9BPYqunry97",
    "7KMRBJ7zr9HD",
    "zSGyg6kWsBUl",
    "OI3P3YnHUEBk",
    "ckfufNrcUHeH",
    "6XC_g-zKxe-r",
    "FlBMxEDBUc9B",
    "rF2ABPsHUtbZ",
    "vTbdjSrhVIiT",
    "lQ2G4ZPDVOXE",
    "xrmHVMVsVS--",
    "HPQviDmNtta8",
    "qjFHK1CKty7o",
    "HSsicSdvt4Zs"
   ],
   "provenance": []
  },
  "kernelspec": {
   "display_name": "Python 3",
   "language": "python",
   "name": "python3"
  },
  "language_info": {
   "codemirror_mode": {
    "name": "ipython",
    "version": 3
   },
   "file_extension": ".py",
   "mimetype": "text/x-python",
   "name": "python",
   "nbconvert_exporter": "python",
   "pygments_lexer": "ipython3",
   "version": "3.10.9 (tags/v3.10.9:1dd9be6, Dec  6 2022, 20:01:21) [MSC v.1934 64 bit (AMD64)]"
  },
  "vscode": {
   "interpreter": {
    "hash": "7b1f2b33e866b0bf2409397e5f58ba9cdf170d3b7f64c8f359c79998e2f88ad4"
   }
  }
 },
 "nbformat": 4,
 "nbformat_minor": 1
}
